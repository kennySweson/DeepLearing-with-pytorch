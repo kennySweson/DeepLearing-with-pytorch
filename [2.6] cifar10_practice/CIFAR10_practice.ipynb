{
 "cells": [
  {
   "cell_type": "code",
   "execution_count": null,
   "metadata": {},
   "outputs": [],
   "source": [
    "import torch\n",
    "from torch.utils import data\n",
    "from torchvision import transforms, datasets\n",
    "from d2l import torch as d2l\n",
    "\n",
    "train_transform = transforms.Compose([\n",
    "    transforms.Grayscale(num_output_channels=1),\n",
    "    \n",
    "    transforms.ToTensor(),\n",
    "    \n",
    "])\n",
    "\n",
    "dataset_train=datasets.ImageFolder(\"cifar10\\\\train\", transform=train_transform)\n",
    "dataset_test=datasets.ImageFolder(\"cifar10\\\\test\", train_transform)"
   ]
  },
  {
   "cell_type": "code",
   "execution_count": null,
   "metadata": {},
   "outputs": [],
   "source": [
    "dataset_train.__getitem__(1)"
   ]
  },
  {
   "cell_type": "code",
   "execution_count": null,
   "metadata": {},
   "outputs": [],
   "source": [
    "train_iter=data.DataLoader(dataset_train, batch_size=5, shuffle=True, num_workers=4)\n",
    "test_iter=data.DataLoader(dataset_test, batch_size=5, shuffle=False, num_workers=4)"
   ]
  },
  {
   "cell_type": "code",
   "execution_count": null,
   "metadata": {},
   "outputs": [],
   "source": [
    "len(train_iter)"
   ]
  },
  {
   "cell_type": "code",
   "execution_count": null,
   "metadata": {},
   "outputs": [],
   "source": [
    "from torch import nn\n",
    "\n",
    "net=nn.Sequential(nn.Flatten(), nn.Linear(1024, 10))\n",
    "def init_weight(m):\n",
    "    if type(m)==nn.Linear:\n",
    "        nn.init.normal_(m.weight, std=0.01)\n",
    "        \n",
    "net.apply(init_weight)"
   ]
  },
  {
   "cell_type": "code",
   "execution_count": null,
   "metadata": {},
   "outputs": [],
   "source": [
    "loss = nn.CrossEntropyLoss(reduction='none')"
   ]
  },
  {
   "cell_type": "code",
   "execution_count": null,
   "metadata": {},
   "outputs": [],
   "source": [
    "trainer=torch.optim.SGD(net.parameters(), lr=1)"
   ]
  },
  {
   "cell_type": "code",
   "execution_count": null,
   "metadata": {},
   "outputs": [],
   "source": [
    "num_epoch=50\n",
    "\n",
    "d2l.train_ch3(net, train_iter, test_iter, loss, num_epoch, trainer)"
   ]
  }
 ],
 "metadata": {
  "kernelspec": {
   "display_name": "d2l",
   "language": "python",
   "name": "python3"
  },
  "language_info": {
   "codemirror_mode": {
    "name": "ipython",
    "version": 3
   },
   "file_extension": ".py",
   "mimetype": "text/x-python",
   "name": "python",
   "nbconvert_exporter": "python",
   "pygments_lexer": "ipython3",
   "version": "3.8.15"
  },
  "orig_nbformat": 4,
  "vscode": {
   "interpreter": {
    "hash": "06e99b06f237bd934033a76d7397a8365db3530a6aa569a462d86e6df3af605c"
   }
  }
 },
 "nbformat": 4,
 "nbformat_minor": 2
}
