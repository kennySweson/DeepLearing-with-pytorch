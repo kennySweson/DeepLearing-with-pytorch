{
 "cells": [
  {
   "cell_type": "code",
   "execution_count": 45,
   "metadata": {},
   "outputs": [],
   "source": [
    "import torch\n",
    "from d2l import torch as d2l\n",
    "from torch import nn\n",
    "from torch.nn import functional as F"
   ]
  },
  {
   "cell_type": "code",
   "execution_count": 49,
   "metadata": {},
   "outputs": [
    {
     "data": {
      "text/plain": [
       "(tensor([[0.6937, 0.8161, 0.3049, 0.0464, 0.9902, 0.0281, 0.3335, 0.3288, 0.7410,\n",
       "          0.3239, 0.3877, 0.4888, 0.7052, 0.8520, 0.6238, 0.6250, 0.3131, 0.6907,\n",
       "          0.5637, 0.2817],\n",
       "         [0.6776, 0.3193, 0.7141, 0.7756, 0.1115, 0.6014, 0.4594, 0.3991, 0.8274,\n",
       "          0.7802, 0.9634, 0.5700, 0.8236, 0.4451, 0.2913, 0.1873, 0.1509, 0.3473,\n",
       "          0.9625, 0.4917]]),\n",
       " tensor([[-0.2672],\n",
       "         [-0.2322]], grad_fn=<AddmmBackward0>))"
      ]
     },
     "execution_count": 49,
     "metadata": {},
     "output_type": "execute_result"
    }
   ],
   "source": [
    "net = nn.Sequential(\n",
    "    nn.Flatten(),\n",
    "    nn.Linear(20, 1)\n",
    ")\n",
    "\n",
    "X = torch.rand(2, 20)\n",
    "X, net(X)"
   ]
  },
  {
   "cell_type": "code",
   "execution_count": 56,
   "metadata": {},
   "outputs": [],
   "source": [
    "class net_hand(nn.Module):\n",
    "    def __init__(self) -> None:\n",
    "        super().__init__()\n",
    "        self.out = nn.Linear(20, 1)\n",
    "\n",
    "\n",
    "    def forward(self, X):\n",
    "        return self.out(X)"
   ]
  },
  {
   "cell_type": "code",
   "execution_count": 73,
   "metadata": {},
   "outputs": [
    {
     "data": {
      "text/plain": [
       "OrderedDict([('weight',\n",
       "              tensor([[-0.1396,  0.0577, -0.1841, -0.0773,  0.1662, -0.1372,  0.1696, -0.0634,\n",
       "                       -0.0906,  0.1315, -0.1623, -0.1756, -0.1449, -0.1290,  0.2217,  0.0742,\n",
       "                        0.1669,  0.0515, -0.0890, -0.0701]])),\n",
       "             ('bias', tensor([0.1077]))])"
      ]
     },
     "execution_count": 73,
     "metadata": {},
     "output_type": "execute_result"
    }
   ],
   "source": [
    "net = nn.Sequential(\n",
    "    nn.Linear(20, 1),\n",
    "    nn.ReLU(),\n",
    "    nn.Linear(1,20),\n",
    "    nn.Linear(20,1)\n",
    ")\n",
    "net(X)\n",
    "net[0].state_dict()"
   ]
  },
  {
   "cell_type": "code",
   "execution_count": 68,
   "metadata": {},
   "outputs": [
    {
     "data": {
      "text/plain": [
       "Sequential(\n",
       "  (0): Linear(in_features=20, out_features=1, bias=True)\n",
       "  (1): ReLU()\n",
       "  (2): Linear(in_features=1, out_features=20, bias=True)\n",
       "  (3): Linear(in_features=20, out_features=5, bias=True)\n",
       ")"
      ]
     },
     "execution_count": 68,
     "metadata": {},
     "output_type": "execute_result"
    }
   ],
   "source": [
    "net"
   ]
  },
  {
   "cell_type": "code",
   "execution_count": 87,
   "metadata": {},
   "outputs": [
    {
     "name": "stdout",
     "output_type": "stream",
     "text": [
      "('weight', torch.Size([1, 20])) ('bias', torch.Size([1]))\n",
      "('0.weight', torch.Size([1, 20])) ('0.bias', torch.Size([1])) ('2.weight', torch.Size([20, 1])) ('2.bias', torch.Size([20])) ('3.weight', torch.Size([1, 20])) ('3.bias', torch.Size([1]))\n"
     ]
    }
   ],
   "source": [
    "print(*[(name, param.shape) for name, param in net[0].named_parameters()])\n",
    "print(*[(name, param.shape) for name, param in net.named_parameters()])\n",
    "\n",
    "# for i in range(4):\n",
    "#     print(f'第{i}层')\n",
    "#     print(net[i].state_dict())"
   ]
  },
  {
   "cell_type": "code",
   "execution_count": 91,
   "metadata": {},
   "outputs": [
    {
     "data": {
      "text/plain": [
       "OrderedDict([('weight',\n",
       "              tensor([[2., 2., 2., 2., 2., 2., 2., 2., 2., 2., 2., 2., 2., 2., 2., 2., 2., 2.,\n",
       "                       2., 2.]])),\n",
       "             ('bias', tensor([0.]))])"
      ]
     },
     "execution_count": 91,
     "metadata": {},
     "output_type": "execute_result"
    }
   ],
   "source": [
    "def init(m):\n",
    "    if type(m) == nn.Linear:\n",
    "        nn.init.constant_(m.weight, 2)\n",
    "        nn.init.zeros_(m.bias)\n",
    "\n",
    "# net[0].apply(init)\n",
    "# net[0].weight.mean(), net[0].bias\n",
    "net[0].weight.shape\n",
    "net[0].apply(init)\n",
    "net[0].state_dict()"
   ]
  },
  {
   "attachments": {},
   "cell_type": "markdown",
   "metadata": {},
   "source": [
    "模型的存储与加载"
   ]
  },
  {
   "cell_type": "code",
   "execution_count": 92,
   "metadata": {},
   "outputs": [],
   "source": [
    "class MLP(nn.Module):\n",
    "    def __init__(self):\n",
    "        super().__init__()\n",
    "        self.hidden = nn.Linear(20, 256)\n",
    "        self.output = nn.Linear(256, 10)\n",
    "\n",
    "    def forward(self, x):\n",
    "        return self.output(F.relu(self.hidden(x)))\n",
    "\n",
    "net = MLP()\n",
    "X = torch.randn(size=(2, 20))\n",
    "Y = net(X)"
   ]
  },
  {
   "cell_type": "code",
   "execution_count": 93,
   "metadata": {},
   "outputs": [],
   "source": [
    "torch.save(net.state_dict(), 'mlp.params')"
   ]
  },
  {
   "cell_type": "code",
   "execution_count": 94,
   "metadata": {},
   "outputs": [
    {
     "data": {
      "text/plain": [
       "MLP(\n",
       "  (hidden): Linear(in_features=20, out_features=256, bias=True)\n",
       "  (output): Linear(in_features=256, out_features=10, bias=True)\n",
       ")"
      ]
     },
     "execution_count": 94,
     "metadata": {},
     "output_type": "execute_result"
    }
   ],
   "source": [
    "clone = MLP()\n",
    "clone.load_state_dict(torch.load('mlp.params'))\n",
    "clone.eval() # 设置 dropout 和 batch normalization 层为评估模式。如果不这么做，可能导致 模型推断结果不一致。"
   ]
  },
  {
   "cell_type": "code",
   "execution_count": 95,
   "metadata": {},
   "outputs": [
    {
     "data": {
      "text/plain": [
       "tensor([[True, True, True, True, True, True, True, True, True, True],\n",
       "        [True, True, True, True, True, True, True, True, True, True]])"
      ]
     },
     "execution_count": 95,
     "metadata": {},
     "output_type": "execute_result"
    }
   ],
   "source": [
    "Y_new = clone(X)\n",
    "Y == Y_new"
   ]
  }
 ],
 "metadata": {
  "kernelspec": {
   "display_name": "d2l",
   "language": "python",
   "name": "python3"
  },
  "language_info": {
   "codemirror_mode": {
    "name": "ipython",
    "version": 3
   },
   "file_extension": ".py",
   "mimetype": "text/x-python",
   "name": "python",
   "nbconvert_exporter": "python",
   "pygments_lexer": "ipython3",
   "version": "3.10.9"
  },
  "orig_nbformat": 4,
  "vscode": {
   "interpreter": {
    "hash": "ccc5f9f27f6a4e62fc714a2118642cfdabd850ec88b39522bf95d0c6206d77aa"
   }
  }
 },
 "nbformat": 4,
 "nbformat_minor": 2
}
