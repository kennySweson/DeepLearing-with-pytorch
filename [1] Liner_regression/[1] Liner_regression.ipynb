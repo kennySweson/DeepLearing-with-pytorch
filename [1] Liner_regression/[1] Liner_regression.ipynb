{
 "cells": [
  {
   "cell_type": "markdown",
   "metadata": {},
   "source": [
    "# 线性回归算法的实现"
   ]
  },
  {
   "cell_type": "code",
   "execution_count": 56,
   "metadata": {},
   "outputs": [],
   "source": [
    "import numpy as np\n",
    "import torch\n",
    "from torch.utils import data\n",
    "from d2l import torch as d2l\n",
    "import matplotlib.pyplot as plt"
   ]
  },
  {
   "cell_type": "markdown",
   "metadata": {},
   "source": [
    "## 生成数据集\n",
    "给定W和b，生成数据集。\n",
    "d2l.synthetic_data生成均值为0，方差为1的X，并添加均值为0，方差为0.01的noise"
   ]
  },
  {
   "cell_type": "code",
   "execution_count": 57,
   "metadata": {},
   "outputs": [
    {
     "name": "stdout",
     "output_type": "stream",
     "text": [
      "Help on function synthetic_data in module d2l.torch:\n",
      "\n",
      "synthetic_data(w, b, num_examples)\n",
      "    Generate y = Xw + b + noise.\n",
      "    \n",
      "    Defined in :numref:`sec_linear_scratch`\n",
      "\n"
     ]
    }
   ],
   "source": [
    "true_w = torch.tensor([2, -3.4])\n",
    "true_b = 4.2\n",
    "features, labels = d2l.synthetic_data(true_w, true_b, 1000)\n",
    "# 生成num_examples个在所提供的W和b附近的数据并加以噪声\n",
    "help(d2l.synthetic_data)"
   ]
  },
  {
   "cell_type": "code",
   "execution_count": 58,
   "metadata": {},
   "outputs": [
    {
     "data": {
      "text/plain": [
       "<matplotlib.collections.PathCollection at 0x175142af0>"
      ]
     },
     "execution_count": 58,
     "metadata": {},
     "output_type": "execute_result"
    },
    {
     "data": {
      "image/png": "[encoded data removed]",
      "text/plain": [
       "<Figure size 640x480 with 1 Axes>"
      ]
     },
     "metadata": {},
     "output_type": "display_data"
    }
   ],
   "source": [
    "plt.scatter(features[:,1], labels)"
   ]
  },
  {
   "cell_type": "markdown",
   "metadata": {},
   "source": [
    "## 读取数据集\n"
   ]
  },
  {
   "cell_type": "code",
   "execution_count": 59,
   "metadata": {},
   "outputs": [],
   "source": [
    "def load_array(data_arrays, batch_size, is_train=True):  #@save\n",
    "    \"\"\"构造一个数据迭代器\n",
    "       Parameters:\n",
    "       ---------------\n",
    "       data_arrays: features ans labels\n",
    "       batch_size: the size of batch\n",
    "       is_train: the dataset is training set or not, if it is training set then need to shuffle the order randomly\n",
    "    \"\"\"\n",
    "    dataset = data.TensorDataset(*data_arrays)\n",
    "    return data.DataLoader(dataset, batch_size, shuffle=is_train)"
   ]
  },
  {
   "cell_type": "code",
   "execution_count": 60,
   "metadata": {},
   "outputs": [
    {
     "data": {
      "text/plain": [
       "[tensor([[ 0.9045,  0.2545],\n",
       "         [-1.3247, -1.1858],\n",
       "         [ 1.5198, -0.7582],\n",
       "         [-0.0890, -1.4330],\n",
       "         [ 0.9050,  0.3686],\n",
       "         [-0.0954, -1.4143],\n",
       "         [ 1.0061,  2.4774],\n",
       "         [-0.3925,  0.2560],\n",
       "         [-0.5848,  2.1189],\n",
       "         [-0.0298, -0.8563]]),\n",
       " tensor([[ 5.1283],\n",
       "         [ 5.5912],\n",
       "         [ 9.8281],\n",
       "         [ 8.8734],\n",
       "         [ 4.7456],\n",
       "         [ 8.8068],\n",
       "         [-2.2264],\n",
       "         [ 2.5564],\n",
       "         [-4.1867],\n",
       "         [ 7.0496]])]"
      ]
     },
     "execution_count": 60,
     "metadata": {},
     "output_type": "execute_result"
    }
   ],
   "source": [
    "batch_size = 10\n",
    "data_iter = load_array((features, labels), batch_size)\n",
    "# load_array传入一个元祖，和batch_size\n",
    "next(iter(data_iter))"
   ]
  },
  {
   "cell_type": "markdown",
   "metadata": {},
   "source": [
    "## 定义模型\n",
    "nn short for *neural networw*\n",
    "\n",
    "nn.Liner(): size of each input, size of each output, need bias or not"
   ]
  },
  {
   "cell_type": "code",
   "execution_count": 61,
   "metadata": {},
   "outputs": [],
   "source": [
    "from torch import nn\n",
    "net = nn.Sequential(nn.Linear(2, 1, True))\n",
    "# help(nn.Linear(2,1))"
   ]
  },
  {
   "cell_type": "markdown",
   "metadata": {},
   "source": [
    "### 初始化模型参数\n",
    "设定初始weight为均值0，方差0.01的正态分布\n",
    "\n",
    "初始bias为0"
   ]
  },
  {
   "cell_type": "code",
   "execution_count": 62,
   "metadata": {},
   "outputs": [
    {
     "data": {
      "text/plain": [
       "tensor([0.])"
      ]
     },
     "execution_count": 62,
     "metadata": {},
     "output_type": "execute_result"
    }
   ],
   "source": [
    "net[0].weight.data.normal_(0, 0.01)\n",
    "net[0].bias.data.fill_(0)"
   ]
  },
  {
   "cell_type": "markdown",
   "metadata": {},
   "source": [
    "## 定义loss\n",
    "计算均方误差，使用MSELoss，默认返回所有样本损失的平均值"
   ]
  },
  {
   "cell_type": "code",
   "execution_count": 63,
   "metadata": {},
   "outputs": [],
   "source": [
    "loss=nn.MSELoss()"
   ]
  },
  {
   "cell_type": "markdown",
   "metadata": {},
   "source": [
    "## 定义优化算法"
   ]
  },
  {
   "cell_type": "code",
   "execution_count": 64,
   "metadata": {},
   "outputs": [],
   "source": [
    "trainer = torch.optim.Adam(net.parameters(), lr=0.01)\n",
    "# help(torch.optim.SGD)"
   ]
  },
  {
   "cell_type": "markdown",
   "metadata": {},
   "source": [
    "## 训练\n",
    "X, y为batch后的"
   ]
  },
  {
   "cell_type": "code",
   "execution_count": 65,
   "metadata": {},
   "outputs": [
    {
     "name": "stdout",
     "output_type": "stream",
     "text": [
      "epoch 1, loss 19.724796\n",
      "epoch 2, loss 10.514623\n",
      "epoch 3, loss 5.168556\n",
      "epoch 4, loss 2.332046\n",
      "epoch 5, loss 0.958294\n",
      "epoch 6, loss 0.356924\n",
      "epoch 7, loss 0.121437\n",
      "epoch 8, loss 0.036845\n",
      "epoch 9, loss 0.010121\n",
      "epoch 10, loss 0.002590\n",
      "[ 1  2  3  4  5  6  7  8  9 10]\n"
     ]
    },
    {
     "data": {
      "text/plain": [
       "<function matplotlib.pyplot.show(close=None, block=None)>"
      ]
     },
     "execution_count": 65,
     "metadata": {},
     "output_type": "execute_result"
    },
    {
     "data": {
      "image/png": "[encoded data removed]",
      "text/plain": [
       "<Figure size 640x480 with 1 Axes>"
      ]
     },
     "metadata": {},
     "output_type": "display_data"
    }
   ],
   "source": [
    "num_epochs = 10\n",
    "l_test = [1,2,3,4,5,6,7,8,9,10]\n",
    "epoch_list = np.asarray(l_test)\n",
    "loss_list = np.ones([10])\n",
    "\n",
    "for epoch in range(num_epochs):\n",
    "    for X, y in data_iter:\n",
    "        l = loss(net(X) ,y) # net(X)为预测值\n",
    "        trainer.zero_grad()\n",
    "        l.backward()\n",
    "        trainer.step() # 进行模型更新\n",
    "    l = loss(net(features), labels)\n",
    "    loss_list[epoch] = l\n",
    "\n",
    "    print(f'epoch {epoch + 1}, loss {l:f}')\n",
    "\n",
    "print(epoch_list)\n",
    "plt.plot(epoch_list, loss_list, label = 'loss')\n",
    "plt.legend()\n",
    "plt.show"
   ]
  },
  {
   "cell_type": "code",
   "execution_count": 66,
   "metadata": {},
   "outputs": [
    {
     "name": "stdout",
     "output_type": "stream",
     "text": [
      "w的估计误差： tensor([ 0.0025, -0.0100])\n",
      "b的估计误差： tensor([0.0491])\n"
     ]
    }
   ],
   "source": [
    "w = net[0].weight.data\n",
    "print('w的估计误差：', true_w - w.reshape(true_w.shape))\n",
    "b = net[0].bias.data\n",
    "print('b的估计误差：', true_b - b)"
   ]
  }
 ],
 "metadata": {
  "kernelspec": {
   "display_name": "d2l",
   "language": "python",
   "name": "python3"
  },
  "language_info": {
   "codemirror_mode": {
    "name": "ipython",
    "version": 3
   },
   "file_extension": ".py",
   "mimetype": "text/x-python",
   "name": "python",
   "nbconvert_exporter": "python",
   "pygments_lexer": "ipython3",
   "version": "3.9.16"
  },
  "orig_nbformat": 4,
  "vscode": {
   "interpreter": {
    "hash": "ccc5f9f27f6a4e62fc714a2118642cfdabd850ec88b39522bf95d0c6206d77aa"
   }
  }
 },
 "nbformat": 4,
 "nbformat_minor": 2
}
